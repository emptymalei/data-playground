{
 "cells": [
  {
   "cell_type": "markdown",
   "metadata": {},
   "source": [
    "# BiliDash"
   ]
  },
  {
   "cell_type": "markdown",
   "metadata": {},
   "source": [
    "This is a notebook that prepares the data for bilidash"
   ]
  },
  {
   "cell_type": "code",
   "execution_count": 1,
   "metadata": {},
   "outputs": [],
   "source": [
    "import numpy as np\n",
    "import pandas as pd\n",
    "import matplotlib.pyplot as plt\n",
    "from pandas.plotting import scatter_matrix\n",
    "\n",
    "import seaborn as sns\n",
    "sns.set_style(\"white\")\n",
    "fig_w = 2530\n",
    "fig_h = 1900\n",
    "my_dpi=200\n",
    "\n"
   ]
  },
  {
   "cell_type": "code",
   "execution_count": 2,
   "metadata": {},
   "outputs": [],
   "source": [
    "plt.style.use('ggplot')\n",
    "\n",
    "from matplotlib import rcParams\n",
    "# plt.rcParams['font.sans-serif'] = ['SimHei']  # 用来正常显示中文标签\n",
    "plt.rcParams['axes.unicode_minus'] = False  # 用来正常显示负号\n",
    "\n",
    "plt.rc('font', family='BabelStone Han', size=13) # 选择你自己电脑上的字体"
   ]
  },
  {
   "cell_type": "code",
   "execution_count": 3,
   "metadata": {},
   "outputs": [],
   "source": [
    "# 如果还没有数据，来群里索要数据文件就行\n",
    "\n",
    "df = pd.read_csv('data/full-data.csv') "
   ]
  },
  {
   "cell_type": "code",
   "execution_count": 4,
   "metadata": {},
   "outputs": [
    {
     "data": {
      "text/plain": [
       "['Unnamed: 0',\n",
       " 'aid',\n",
       " 'uid',\n",
       " 'time',\n",
       " 'duration',\n",
       " 'state',\n",
       " 'view',\n",
       " 'danmaku',\n",
       " 'coin',\n",
       " 'favorite',\n",
       " 'share',\n",
       " 'reply',\n",
       " 'like',\n",
       " 'sectid',\n",
       " 'sectname']"
      ]
     },
     "execution_count": 4,
     "metadata": {},
     "output_type": "execute_result"
    }
   ],
   "source": [
    "list(df.columns.values)"
   ]
  },
  {
   "cell_type": "code",
   "execution_count": 5,
   "metadata": {},
   "outputs": [],
   "source": [
    "df['time'] = pd.to_datetime(df['time'],unit='s')"
   ]
  },
  {
   "cell_type": "code",
   "execution_count": 8,
   "metadata": {},
   "outputs": [
    {
     "data": {
      "text/html": [
       "<div>\n",
       "<style scoped>\n",
       "    .dataframe tbody tr th:only-of-type {\n",
       "        vertical-align: middle;\n",
       "    }\n",
       "\n",
       "    .dataframe tbody tr th {\n",
       "        vertical-align: top;\n",
       "    }\n",
       "\n",
       "    .dataframe thead th {\n",
       "        text-align: right;\n",
       "    }\n",
       "</style>\n",
       "<table border=\"1\" class=\"dataframe\">\n",
       "  <thead>\n",
       "    <tr style=\"text-align: right;\">\n",
       "      <th></th>\n",
       "      <th>Unnamed: 0</th>\n",
       "      <th>aid</th>\n",
       "      <th>uid</th>\n",
       "      <th>time</th>\n",
       "      <th>duration</th>\n",
       "      <th>state</th>\n",
       "      <th>view</th>\n",
       "      <th>danmaku</th>\n",
       "      <th>coin</th>\n",
       "      <th>favorite</th>\n",
       "      <th>share</th>\n",
       "      <th>reply</th>\n",
       "      <th>like</th>\n",
       "      <th>sectid</th>\n",
       "    </tr>\n",
       "    <tr>\n",
       "      <th>sectname</th>\n",
       "      <th></th>\n",
       "      <th></th>\n",
       "      <th></th>\n",
       "      <th></th>\n",
       "      <th></th>\n",
       "      <th></th>\n",
       "      <th></th>\n",
       "      <th></th>\n",
       "      <th></th>\n",
       "      <th></th>\n",
       "      <th></th>\n",
       "      <th></th>\n",
       "      <th></th>\n",
       "      <th></th>\n",
       "    </tr>\n",
       "  </thead>\n",
       "  <tbody>\n",
       "    <tr>\n",
       "      <th>ASMR</th>\n",
       "      <td>2285</td>\n",
       "      <td>2285</td>\n",
       "      <td>2285</td>\n",
       "      <td>2285</td>\n",
       "      <td>2285</td>\n",
       "      <td>2285</td>\n",
       "      <td>2285</td>\n",
       "      <td>2285</td>\n",
       "      <td>2285</td>\n",
       "      <td>2285</td>\n",
       "      <td>2285</td>\n",
       "      <td>2285</td>\n",
       "      <td>2285</td>\n",
       "      <td>2285</td>\n",
       "    </tr>\n",
       "    <tr>\n",
       "      <th>GMV</th>\n",
       "      <td>251</td>\n",
       "      <td>251</td>\n",
       "      <td>251</td>\n",
       "      <td>251</td>\n",
       "      <td>251</td>\n",
       "      <td>251</td>\n",
       "      <td>251</td>\n",
       "      <td>251</td>\n",
       "      <td>251</td>\n",
       "      <td>251</td>\n",
       "      <td>251</td>\n",
       "      <td>251</td>\n",
       "      <td>251</td>\n",
       "      <td>251</td>\n",
       "    </tr>\n",
       "    <tr>\n",
       "      <th>Korea相关</th>\n",
       "      <td>488</td>\n",
       "      <td>488</td>\n",
       "      <td>488</td>\n",
       "      <td>488</td>\n",
       "      <td>488</td>\n",
       "      <td>488</td>\n",
       "      <td>488</td>\n",
       "      <td>488</td>\n",
       "      <td>488</td>\n",
       "      <td>488</td>\n",
       "      <td>488</td>\n",
       "      <td>488</td>\n",
       "      <td>488</td>\n",
       "      <td>488</td>\n",
       "    </tr>\n",
       "    <tr>\n",
       "      <th>MAD-AMV</th>\n",
       "      <td>8562</td>\n",
       "      <td>8562</td>\n",
       "      <td>8562</td>\n",
       "      <td>8562</td>\n",
       "      <td>8562</td>\n",
       "      <td>8562</td>\n",
       "      <td>8562</td>\n",
       "      <td>8562</td>\n",
       "      <td>8562</td>\n",
       "      <td>8562</td>\n",
       "      <td>8562</td>\n",
       "      <td>8562</td>\n",
       "      <td>8562</td>\n",
       "      <td>8562</td>\n",
       "    </tr>\n",
       "    <tr>\n",
       "      <th>MMD-3D</th>\n",
       "      <td>17552</td>\n",
       "      <td>17552</td>\n",
       "      <td>17552</td>\n",
       "      <td>17552</td>\n",
       "      <td>17552</td>\n",
       "      <td>17552</td>\n",
       "      <td>17552</td>\n",
       "      <td>17552</td>\n",
       "      <td>17552</td>\n",
       "      <td>17552</td>\n",
       "      <td>17552</td>\n",
       "      <td>17552</td>\n",
       "      <td>17552</td>\n",
       "      <td>17552</td>\n",
       "    </tr>\n",
       "  </tbody>\n",
       "</table>\n",
       "</div>"
      ],
      "text/plain": [
       "          Unnamed: 0    aid    uid   time  duration  state   view  danmaku  \\\n",
       "sectname                                                                     \n",
       "ASMR            2285   2285   2285   2285      2285   2285   2285     2285   \n",
       "GMV              251    251    251    251       251    251    251      251   \n",
       "Korea相关          488    488    488    488       488    488    488      488   \n",
       "MAD-AMV         8562   8562   8562   8562      8562   8562   8562     8562   \n",
       "MMD-3D         17552  17552  17552  17552     17552  17552  17552    17552   \n",
       "\n",
       "           coin  favorite  share  reply   like  sectid  \n",
       "sectname                                                \n",
       "ASMR       2285      2285   2285   2285   2285    2285  \n",
       "GMV         251       251    251    251    251     251  \n",
       "Korea相关     488       488    488    488    488     488  \n",
       "MAD-AMV    8562      8562   8562   8562   8562    8562  \n",
       "MMD-3D    17552     17552  17552  17552  17552   17552  "
      ]
     },
     "execution_count": 8,
     "metadata": {},
     "output_type": "execute_result"
    }
   ],
   "source": [
    "df[df['view']<0].groupby('sectname').count().head(5)"
   ]
  },
  {
   "cell_type": "code",
   "execution_count": 7,
   "metadata": {},
   "outputs": [
    {
     "data": {
      "text/plain": [
       "Timestamp('2018-02-28 15:00:27')"
      ]
     },
     "execution_count": 7,
     "metadata": {},
     "output_type": "execute_result"
    }
   ],
   "source": [
    "df['time'].max()"
   ]
  },
  {
   "cell_type": "markdown",
   "metadata": {},
   "source": [
    "## Data"
   ]
  },
  {
   "cell_type": "markdown",
   "metadata": {},
   "source": [
    "### Duration"
   ]
  },
  {
   "cell_type": "code",
   "execution_count": 103,
   "metadata": {},
   "outputs": [],
   "source": [
    "dur_hist_data_max = df['duration'].max()/60"
   ]
  },
  {
   "cell_type": "code",
   "execution_count": 104,
   "metadata": {},
   "outputs": [],
   "source": [
    "# dur_hist_data = np.floor(df[df['duration']<3600+60]['duration'].values/60)\n",
    "dur_hist_data = np.floor(df['duration'].values/60)"
   ]
  },
  {
   "cell_type": "code",
   "execution_count": 105,
   "metadata": {},
   "outputs": [],
   "source": [
    "dur_hist_data_values, dur_hist_data_bins = np.histogram(dur_hist_data, bins=np.arange(61))"
   ]
  },
  {
   "cell_type": "code",
   "execution_count": 106,
   "metadata": {},
   "outputs": [
    {
     "data": {
      "text/plain": [
       "[<matplotlib.lines.Line2D at 0x1a2d6652b0>]"
      ]
     },
     "execution_count": 106,
     "metadata": {},
     "output_type": "execute_result"
    },
    {
     "data": {
      "image/png": "[encoded data removed]",
      "text/plain": [
       "<Figure size 432x288 with 1 Axes>"
      ]
     },
     "metadata": {},
     "output_type": "display_data"
    }
   ],
   "source": [
    "plt.plot( dur_hist_data_bins[:-1], dur_hist_data_values ,'r.')"
   ]
  },
  {
   "cell_type": "code",
   "execution_count": 107,
   "metadata": {},
   "outputs": [],
   "source": [
    "dur_hist_data_csv =  np.vstack((dur_hist_data_bins[:-1], dur_hist_data_values)).T"
   ]
  },
  {
   "cell_type": "code",
   "execution_count": 108,
   "metadata": {},
   "outputs": [
    {
     "data": {
      "text/plain": [
       "array([[      0,  539336],\n",
       "       [      1,  915739],\n",
       "       [      2,  850891],\n",
       "       [      3, 1153926],\n",
       "       [      4,  930114]])"
      ]
     },
     "execution_count": 108,
     "metadata": {},
     "output_type": "execute_result"
    }
   ],
   "source": [
    "dur_hist_data_csv[:5].astype(int)"
   ]
  },
  {
   "cell_type": "code",
   "execution_count": 109,
   "metadata": {},
   "outputs": [],
   "source": [
    "np.savetxt('bilidash/dur_hist_data.csv', dur_hist_data_csv, delimiter=',', header=\"bin,count\", fmt='%i')"
   ]
  },
  {
   "cell_type": "markdown",
   "metadata": {},
   "source": [
    "### Coins"
   ]
  },
  {
   "cell_type": "code",
   "execution_count": 110,
   "metadata": {},
   "outputs": [
    {
     "name": "stdout",
     "output_type": "stream",
     "text": [
      "1261542\n"
     ]
    }
   ],
   "source": [
    "coin_hist_data_max = df['coin'].max()\n",
    "print(coin_hist_data_max)"
   ]
  },
  {
   "cell_type": "code",
   "execution_count": 111,
   "metadata": {},
   "outputs": [],
   "source": [
    "coin_hist_data = np.floor(df['coin'].values)"
   ]
  },
  {
   "cell_type": "code",
   "execution_count": 130,
   "metadata": {},
   "outputs": [],
   "source": [
    "coin_hist_data_values, coin_hist_data_bins = np.histogram(coin_hist_data, bins=np.arange(0,5000,1))"
   ]
  },
  {
   "cell_type": "code",
   "execution_count": 131,
   "metadata": {},
   "outputs": [
    {
     "data": {
      "text/plain": [
       "[<matplotlib.lines.Line2D at 0x1a226e4cf8>]"
      ]
     },
     "execution_count": 131,
     "metadata": {},
     "output_type": "execute_result"
    },
    {
     "data": {
      "image/png": "[encoded data removed]",
      "text/plain": [
       "<Figure size 432x288 with 1 Axes>"
      ]
     },
     "metadata": {},
     "output_type": "display_data"
    }
   ],
   "source": [
    "plt.semilogy( coin_hist_data_bins[:-1], coin_hist_data_values ,'r.')"
   ]
  },
  {
   "cell_type": "code",
   "execution_count": 132,
   "metadata": {},
   "outputs": [],
   "source": [
    "coin_hist_data_csv =  np.vstack((coin_hist_data_bins[:-1], coin_hist_data_values)).T"
   ]
  },
  {
   "cell_type": "code",
   "execution_count": 133,
   "metadata": {},
   "outputs": [],
   "source": [
    "np.savetxt('bilidash/coin_hist_data.csv', coin_hist_data_csv, delimiter=',', header=\"bin,count\", fmt='%i')"
   ]
  },
  {
   "cell_type": "markdown",
   "metadata": {},
   "source": [
    "### Views"
   ]
  },
  {
   "cell_type": "code",
   "execution_count": 138,
   "metadata": {},
   "outputs": [
    {
     "name": "stdout",
     "output_type": "stream",
     "text": [
      "29385006\n"
     ]
    },
    {
     "data": {
      "text/plain": [
       "[<matplotlib.lines.Line2D at 0x1a1473a898>]"
      ]
     },
     "execution_count": 138,
     "metadata": {},
     "output_type": "execute_result"
    },
    {
     "data": {
      "image/png": "[encoded data removed]",
      "text/plain": [
       "<Figure size 432x288 with 1 Axes>"
      ]
     },
     "metadata": {},
     "output_type": "display_data"
    }
   ],
   "source": [
    "view_hist_data_max = df['view'].max()\n",
    "print(view_hist_data_max)\n",
    "\n",
    "view_hist_data = np.floor(df['view'].values)\n",
    "\n",
    "view_hist_data_values, view_hist_data_bins = np.histogram(view_hist_data, bins=np.arange(0,100000,10))\n",
    "\n",
    "plt.semilogy( view_hist_data_bins[:-1], view_hist_data_values ,'r.')"
   ]
  },
  {
   "cell_type": "code",
   "execution_count": 139,
   "metadata": {},
   "outputs": [],
   "source": [
    "view_hist_data_csv =  np.vstack((view_hist_data_bins[:-1], view_hist_data_values)).T\n",
    "\n",
    "np.savetxt('bilidash/view_hist_data.csv', view_hist_data_csv, delimiter=',', header=\"bin,count\", fmt='%i')"
   ]
  },
  {
   "cell_type": "code",
   "execution_count": null,
   "metadata": {},
   "outputs": [],
   "source": []
  }
 ],
 "metadata": {
  "kernelspec": {
   "display_name": "Python 3",
   "language": "python",
   "name": "python3"
  },
  "language_info": {
   "codemirror_mode": {
    "name": "ipython",
    "version": 3
   },
   "file_extension": ".py",
   "mimetype": "text/x-python",
   "name": "python",
   "nbconvert_exporter": "python",
   "pygments_lexer": "ipython3",
   "version": "3.6.4"
  }
 },
 "nbformat": 4,
 "nbformat_minor": 2
}
