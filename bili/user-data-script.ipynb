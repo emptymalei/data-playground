{
 "cells": [
  {
   "cell_type": "markdown",
   "metadata": {},
   "source": [
    "## Playing with user data"
   ]
  },
  {
   "cell_type": "markdown",
   "metadata": {},
   "source": [
    "## Large Dataset"
   ]
  },
  {
   "cell_type": "markdown",
   "metadata": {},
   "source": [
    "This dataset is kind of large. To deal with large datasets in python, I might make use of\n",
    "\n",
    "1. [PySpark](https://www.youtube.com/watch?time_continue=7&v=xc7Lc8RA8wE)\n",
    "2. [Multiprocessing](http://gouthamanbalaraman.com/blog/distributed-processing-pandas.html)\n",
    "3. [Pandas in Parallel](http://www.racketracer.com/2016/07/06/pandas-in-parallel/)\n",
    "4. Make it a sqlite database and use pandas sql api\n",
    "5. Make it a mongodb and use mongodb api\n",
    "6. Use [Dask](http://pythondata.com/dask-large-csv-python/), which does NOT actually load data into memory when we establish the dataframe."
   ]
  },
  {
   "cell_type": "markdown",
   "metadata": {},
   "source": [
    "## Testing"
   ]
  },
  {
   "cell_type": "code",
   "execution_count": 1,
   "metadata": {},
   "outputs": [],
   "source": [
    "import numpy as np\n",
    "import pandas as pd"
   ]
  },
  {
   "cell_type": "code",
   "execution_count": 2,
   "metadata": {},
   "outputs": [],
   "source": [
    "file = '/Users/leima/OneDrive - University of New Mexico/data/biliuser/member.csv'"
   ]
  },
  {
   "cell_type": "code",
   "execution_count": null,
   "metadata": {},
   "outputs": [],
   "source": []
  }
 ],
 "metadata": {
  "kernelspec": {
   "display_name": "Python 3",
   "language": "python",
   "name": "python3"
  },
  "language_info": {
   "codemirror_mode": {
    "name": "ipython",
    "version": 3
   },
   "file_extension": ".py",
   "mimetype": "text/x-python",
   "name": "python",
   "nbconvert_exporter": "python",
   "pygments_lexer": "ipython3",
   "version": "3.6.4"
  }
 },
 "nbformat": 4,
 "nbformat_minor": 2
}
