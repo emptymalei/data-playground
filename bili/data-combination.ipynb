{
 "cells": [
  {
   "cell_type": "code",
   "execution_count": 1,
   "metadata": {},
   "outputs": [],
   "source": [
    "import numpy as np\n",
    "import pandas as pd\n",
    "import datetime\n",
    "import matplotlib.pyplot as plt\n",
    "from pandas.plotting import scatter_matrix\n",
    "\n",
    "import seaborn as sns\n",
    "sns.set_style(\"white\")\n",
    "fig_w = 2530\n",
    "fig_h = 1900\n",
    "my_dpi=200\n",
    "\n",
    "plt.style.use('ggplot')\n",
    "\n",
    "from matplotlib import rcParams\n",
    "# plt.rcParams['font.sans-serif'] = ['SimHei']  # 用来正常显示中文标签\n",
    "plt.rcParams['axes.unicode_minus'] = False  # 用来正常显示负号\n",
    "\n",
    "plt.rc('font', family='BabelStone Han', size=13) # 选择你自己电脑上的字体"
   ]
  },
  {
   "cell_type": "code",
   "execution_count": 2,
   "metadata": {},
   "outputs": [
    {
     "name": "stdout",
     "output_type": "stream",
     "text": [
      "total.csv\n",
      "vid_data_10000000_12000000.csv\n",
      "vid_data_12000000_14000000.csv\n",
      "vid_data_14000000_16000000.csv\n",
      "vid_data_16000000_18000000.csv\n",
      "vid_data_18000000_20000000.csv\n",
      "vid_data_1_2000000.csv\n",
      "vid_data_20000000_22000000.csv\n",
      "vid_data_2000000_4000000.csv\n",
      "vid_data_22000000_24000000.csv\n",
      "vid_data_4000000_6000000.csv\n",
      "vid_data_6000000_8000000.csv\n",
      "vid_data_8000000_10000000.csv\n"
     ]
    }
   ],
   "source": [
    "%%bash\n",
    "ls '../../../OneDrive - University of New Mexico/data/mybilividdata'"
   ]
  },
  {
   "cell_type": "code",
   "execution_count": 3,
   "metadata": {},
   "outputs": [],
   "source": [
    "path = '../../../OneDrive - University of New Mexico/data/mybilividdata/'\n",
    "file_list = [ 'vid_data_1_2000000.csv', 'vid_data_2000000_4000000.csv', 'vid_data_4000000_6000000.csv', 'vid_data_6000000_8000000.csv', 'vid_data_8000000_10000000.csv', 'vid_data_10000000_12000000.csv', 'vid_data_12000000_14000000.csv', 'vid_data_14000000_16000000.csv', 'vid_data_16000000_18000000.csv', 'vid_data_18000000_20000000.csv', 'vid_data_20000000_22000000.csv', 'vid_data_22000000_24000000.csv' ]"
   ]
  },
  {
   "cell_type": "code",
   "execution_count": 4,
   "metadata": {},
   "outputs": [],
   "source": [
    "df = pd.read_csv( path + file_list[0] )"
   ]
  },
  {
   "cell_type": "code",
   "execution_count": 5,
   "metadata": {},
   "outputs": [],
   "source": [
    "for file in file_list[1:]:\n",
    "    df = df.append( pd.read_csv( path + file ) )"
   ]
  },
  {
   "cell_type": "code",
   "execution_count": 6,
   "metadata": {},
   "outputs": [
    {
     "data": {
      "text/html": [
       "<div>\n",
       "<style scoped>\n",
       "    .dataframe tbody tr th:only-of-type {\n",
       "        vertical-align: middle;\n",
       "    }\n",
       "\n",
       "    .dataframe tbody tr th {\n",
       "        vertical-align: top;\n",
       "    }\n",
       "\n",
       "    .dataframe thead th {\n",
       "        text-align: right;\n",
       "    }\n",
       "</style>\n",
       "<table border=\"1\" class=\"dataframe\">\n",
       "  <thead>\n",
       "    <tr style=\"text-align: right;\">\n",
       "      <th></th>\n",
       "      <th>aid</th>\n",
       "      <th>view</th>\n",
       "      <th>danmaku</th>\n",
       "      <th>reply</th>\n",
       "      <th>favorite</th>\n",
       "      <th>coin</th>\n",
       "      <th>share</th>\n",
       "      <th>now_rank</th>\n",
       "      <th>his_rank</th>\n",
       "      <th>like</th>\n",
       "    </tr>\n",
       "  </thead>\n",
       "  <tbody>\n",
       "    <tr>\n",
       "      <th>0</th>\n",
       "      <td>100</td>\n",
       "      <td>177334</td>\n",
       "      <td>3053</td>\n",
       "      <td>3315</td>\n",
       "      <td>3390</td>\n",
       "      <td>1422</td>\n",
       "      <td>199</td>\n",
       "      <td>0</td>\n",
       "      <td>27</td>\n",
       "      <td>854</td>\n",
       "    </tr>\n",
       "    <tr>\n",
       "      <th>1</th>\n",
       "      <td>12</td>\n",
       "      <td>600584</td>\n",
       "      <td>4966</td>\n",
       "      <td>4443</td>\n",
       "      <td>5886</td>\n",
       "      <td>665</td>\n",
       "      <td>673</td>\n",
       "      <td>0</td>\n",
       "      <td>0</td>\n",
       "      <td>637</td>\n",
       "    </tr>\n",
       "    <tr>\n",
       "      <th>2</th>\n",
       "      <td>16</td>\n",
       "      <td>189589</td>\n",
       "      <td>2082</td>\n",
       "      <td>3361</td>\n",
       "      <td>1870</td>\n",
       "      <td>242</td>\n",
       "      <td>263</td>\n",
       "      <td>0</td>\n",
       "      <td>0</td>\n",
       "      <td>603</td>\n",
       "    </tr>\n",
       "    <tr>\n",
       "      <th>3</th>\n",
       "      <td>2</td>\n",
       "      <td>-1</td>\n",
       "      <td>14272</td>\n",
       "      <td>20183</td>\n",
       "      <td>7036</td>\n",
       "      <td>2780</td>\n",
       "      <td>2198</td>\n",
       "      <td>0</td>\n",
       "      <td>0</td>\n",
       "      <td>3235</td>\n",
       "    </tr>\n",
       "    <tr>\n",
       "      <th>4</th>\n",
       "      <td>20</td>\n",
       "      <td>215804</td>\n",
       "      <td>5863</td>\n",
       "      <td>3232</td>\n",
       "      <td>5719</td>\n",
       "      <td>685</td>\n",
       "      <td>288</td>\n",
       "      <td>0</td>\n",
       "      <td>0</td>\n",
       "      <td>570</td>\n",
       "    </tr>\n",
       "  </tbody>\n",
       "</table>\n",
       "</div>"
      ],
      "text/plain": [
       "   aid    view  danmaku  reply  favorite  coin  share  now_rank  his_rank  \\\n",
       "0  100  177334     3053   3315      3390  1422    199         0        27   \n",
       "1   12  600584     4966   4443      5886   665    673         0         0   \n",
       "2   16  189589     2082   3361      1870   242    263         0         0   \n",
       "3    2      -1    14272  20183      7036  2780   2198         0         0   \n",
       "4   20  215804     5863   3232      5719   685    288         0         0   \n",
       "\n",
       "   like  \n",
       "0   854  \n",
       "1   637  \n",
       "2   603  \n",
       "3  3235  \n",
       "4   570  "
      ]
     },
     "execution_count": 6,
     "metadata": {},
     "output_type": "execute_result"
    }
   ],
   "source": [
    "df.head()"
   ]
  },
  {
   "cell_type": "code",
   "execution_count": 7,
   "metadata": {},
   "outputs": [
    {
     "data": {
      "text/html": [
       "<div>\n",
       "<style scoped>\n",
       "    .dataframe tbody tr th:only-of-type {\n",
       "        vertical-align: middle;\n",
       "    }\n",
       "\n",
       "    .dataframe tbody tr th {\n",
       "        vertical-align: top;\n",
       "    }\n",
       "\n",
       "    .dataframe thead th {\n",
       "        text-align: right;\n",
       "    }\n",
       "</style>\n",
       "<table border=\"1\" class=\"dataframe\">\n",
       "  <thead>\n",
       "    <tr style=\"text-align: right;\">\n",
       "      <th></th>\n",
       "      <th>aid</th>\n",
       "      <th>view</th>\n",
       "      <th>danmaku</th>\n",
       "      <th>reply</th>\n",
       "      <th>favorite</th>\n",
       "      <th>coin</th>\n",
       "      <th>share</th>\n",
       "      <th>now_rank</th>\n",
       "      <th>his_rank</th>\n",
       "      <th>like</th>\n",
       "    </tr>\n",
       "  </thead>\n",
       "  <tbody>\n",
       "    <tr>\n",
       "      <th>1083868</th>\n",
       "      <td>23323651</td>\n",
       "      <td>9</td>\n",
       "      <td>0</td>\n",
       "      <td>1</td>\n",
       "      <td>2</td>\n",
       "      <td>0</td>\n",
       "      <td>0</td>\n",
       "      <td>0</td>\n",
       "      <td>0</td>\n",
       "      <td>1</td>\n",
       "    </tr>\n",
       "    <tr>\n",
       "      <th>1083869</th>\n",
       "      <td>23323686</td>\n",
       "      <td>1</td>\n",
       "      <td>0</td>\n",
       "      <td>0</td>\n",
       "      <td>0</td>\n",
       "      <td>0</td>\n",
       "      <td>0</td>\n",
       "      <td>0</td>\n",
       "      <td>0</td>\n",
       "      <td>0</td>\n",
       "    </tr>\n",
       "    <tr>\n",
       "      <th>1083870</th>\n",
       "      <td>23323691</td>\n",
       "      <td>1</td>\n",
       "      <td>0</td>\n",
       "      <td>0</td>\n",
       "      <td>0</td>\n",
       "      <td>0</td>\n",
       "      <td>0</td>\n",
       "      <td>0</td>\n",
       "      <td>0</td>\n",
       "      <td>0</td>\n",
       "    </tr>\n",
       "    <tr>\n",
       "      <th>1083871</th>\n",
       "      <td>23323744</td>\n",
       "      <td>1</td>\n",
       "      <td>0</td>\n",
       "      <td>0</td>\n",
       "      <td>0</td>\n",
       "      <td>0</td>\n",
       "      <td>0</td>\n",
       "      <td>0</td>\n",
       "      <td>0</td>\n",
       "      <td>2</td>\n",
       "    </tr>\n",
       "    <tr>\n",
       "      <th>1083872</th>\n",
       "      <td>23323833</td>\n",
       "      <td>1</td>\n",
       "      <td>0</td>\n",
       "      <td>2</td>\n",
       "      <td>2</td>\n",
       "      <td>0</td>\n",
       "      <td>0</td>\n",
       "      <td>0</td>\n",
       "      <td>0</td>\n",
       "      <td>1</td>\n",
       "    </tr>\n",
       "  </tbody>\n",
       "</table>\n",
       "</div>"
      ],
      "text/plain": [
       "              aid  view  danmaku  reply  favorite  coin  share  now_rank  \\\n",
       "1083868  23323651     9        0      1         2     0      0         0   \n",
       "1083869  23323686     1        0      0         0     0      0         0   \n",
       "1083870  23323691     1        0      0         0     0      0         0   \n",
       "1083871  23323744     1        0      0         0     0      0         0   \n",
       "1083872  23323833     1        0      2         2     0      0         0   \n",
       "\n",
       "         his_rank  like  \n",
       "1083868         0     1  \n",
       "1083869         0     0  \n",
       "1083870         0     0  \n",
       "1083871         0     2  \n",
       "1083872         0     1  "
      ]
     },
     "execution_count": 7,
     "metadata": {},
     "output_type": "execute_result"
    }
   ],
   "source": [
    "df.tail()"
   ]
  },
  {
   "cell_type": "code",
   "execution_count": 8,
   "metadata": {},
   "outputs": [
    {
     "data": {
      "text/plain": [
       "15920858"
      ]
     },
     "execution_count": 8,
     "metadata": {},
     "output_type": "execute_result"
    }
   ],
   "source": [
    "len(df)"
   ]
  },
  {
   "cell_type": "code",
   "execution_count": 9,
   "metadata": {},
   "outputs": [],
   "source": [
    "df.to_csv(path + 'total.csv', sep=',', encoding='utf-8')"
   ]
  },
  {
   "cell_type": "markdown",
   "metadata": {},
   "source": [
    "## Missing Video Rate"
   ]
  },
  {
   "cell_type": "code",
   "execution_count": 10,
   "metadata": {},
   "outputs": [],
   "source": [
    "vid_ids = df['aid'].values"
   ]
  },
  {
   "cell_type": "code",
   "execution_count": 11,
   "metadata": {},
   "outputs": [],
   "source": [
    "windowsize = 100000\n",
    "\n",
    "missing_rate_list = []\n",
    "missing_rate_list_vid = []\n",
    "\n",
    "missing_data_start = 0\n",
    "missing_data_flag = missing_data_start\n",
    "missing_data_end = max(vid_ids)\n",
    "\n",
    "for i in np.arange(missing_data_start, missing_data_end - windowsize, windowsize ):\n",
    "    \n",
    "    missing_rate_list.append( len( df[ (df['aid'] > i) & (df['aid'] < i+ windowsize) ] )/windowsize )\n",
    "    missing_rate_list_vid.append( i )\n",
    "    "
   ]
  },
  {
   "cell_type": "code",
   "execution_count": 12,
   "metadata": {},
   "outputs": [
    {
     "name": "stdout",
     "output_type": "stream",
     "text": [
      "3000000 \n",
      " 3100000\n"
     ]
    }
   ],
   "source": [
    "from scipy.optimize import curve_fit\n",
    "\n",
    "def f(x, A, B): # this is your 'straight line' y=f(x)\n",
    "    return A*x + B\n",
    "\n",
    "missing_rate_list_fig_start = 30\n",
    "A,B = curve_fit(f, missing_rate_list_vid[missing_rate_list_fig_start:], missing_rate_list[missing_rate_list_fig_start:] )[0] # your data x, y to fit\n",
    "print(missing_rate_list_vid[missing_rate_list_fig_start], '\\n', missing_rate_list_vid[missing_rate_list_fig_start]+windowsize)\n",
    "missing_rate_list_fit = [A * i + B for i in missing_rate_list_vid]"
   ]
  },
  {
   "cell_type": "code",
   "execution_count": 13,
   "metadata": {},
   "outputs": [
    {
     "name": "stdout",
     "output_type": "stream",
     "text": [
      "2015-10-03 08:09:58\n",
      "2014-03-08 01:42:57\n"
     ]
    }
   ],
   "source": [
    "print( datetime.datetime.fromtimestamp(1443881398) )\n",
    "print( datetime.datetime.fromtimestamp(1394268177) )"
   ]
  },
  {
   "cell_type": "code",
   "execution_count": 14,
   "metadata": {},
   "outputs": [
    {
     "data": {
      "image/png": "[encoded data removed]",
      "text/plain": [
       "<Figure size 1440x432 with 1 Axes>"
      ]
     },
     "metadata": {},
     "output_type": "display_data"
    }
   ],
   "source": [
    "plt.figure(figsize=(20,6))\n",
    "plt.plot( missing_rate_list_vid, missing_rate_list, 'k.', label='Data')\n",
    "plt.plot( missing_rate_list_vid, missing_rate_list_fit, label='Linear Fit (Partial)')\n",
    "plt.ylabel('Filling Rate')\n",
    "plt.xlabel('Video ID Range')\n",
    "locs, labels = plt.xticks()\n",
    "tick_labels = ( '['+str('{}'.format( int(i))) + ',' + str('{}'.format( int(i+windowsize) )) + ']' for i in list(locs[1:]) )\n",
    "tick_labels = [''] + list(tick_labels)\n",
    "tick_labels[-1] = ''\n",
    "plt.xticks(locs[1:], tick_labels[1:] )\n",
    "plt.legend()\n",
    "plt.show()"
   ]
  },
  {
   "cell_type": "code",
   "execution_count": 15,
   "metadata": {},
   "outputs": [],
   "source": [
    "view_hist_data = np.histogram( df['view'].values/100, bins=np.arange(1,10000,100))"
   ]
  },
  {
   "cell_type": "code",
   "execution_count": 16,
   "metadata": {},
   "outputs": [
    {
     "data": {
      "image/png": "[encoded data removed]",
      "text/plain": [
       "<Figure size 720x432 with 1 Axes>"
      ]
     },
     "metadata": {},
     "output_type": "display_data"
    }
   ],
   "source": [
    "plt.figure(figsize=(10,6))\n",
    "plt.semilogy( view_hist_data[0] )\n",
    "plt.ylabel('Number of Videos')\n",
    "plt.xlabel('Number of Views/100')\n",
    "plt.show()"
   ]
  },
  {
   "cell_type": "code",
   "execution_count": null,
   "metadata": {},
   "outputs": [],
   "source": []
  },
  {
   "cell_type": "code",
   "execution_count": null,
   "metadata": {},
   "outputs": [],
   "source": []
  }
 ],
 "metadata": {
  "kernelspec": {
   "display_name": "Python 3",
   "language": "python",
   "name": "python3"
  },
  "language_info": {
   "codemirror_mode": {
    "name": "ipython",
    "version": 3
   },
   "file_extension": ".py",
   "mimetype": "text/x-python",
   "name": "python",
   "nbconvert_exporter": "python",
   "pygments_lexer": "ipython3",
   "version": "3.6.4"
  }
 },
 "nbformat": 4,
 "nbformat_minor": 2
}
