{
 "cells": [
  {
   "cell_type": "markdown",
   "metadata": {},
   "source": [
    "# PMC Data Scraping and Parsing"
   ]
  },
  {
   "cell_type": "markdown",
   "metadata": {},
   "source": [
    "This notebook is for PMC data"
   ]
  },
  {
   "cell_type": "markdown",
   "metadata": {},
   "source": [
    "Import modules"
   ]
  },
  {
   "cell_type": "code",
   "execution_count": 4,
   "metadata": {},
   "outputs": [],
   "source": [
    "import requests\n",
    "import xml.etree.ElementTree as ET\n",
    "import pandas as pd\n"
   ]
  },
  {
   "cell_type": "markdown",
   "metadata": {},
   "source": [
    "Links to data or query etc"
   ]
  },
  {
   "cell_type": "code",
   "execution_count": 5,
   "metadata": {},
   "outputs": [],
   "source": [
    "search_key_word = 'depression'\n",
    "\n",
    "def pmc_url(cm=None):\n",
    "    if cm == None:\n",
    "        cm = '*'\n",
    "        \n",
    "    return 'https://www.ebi.ac.uk/europepmc/webservices/rest/search?query='+ search_key_word + '&resulttype=lite&pageSize=100' + '&cursorMark=' + cm"
   ]
  },
  {
   "cell_type": "markdown",
   "metadata": {},
   "source": [
    "Write a parser for XML data and load it to pandas dataframe"
   ]
  },
  {
   "cell_type": "code",
   "execution_count": 20,
   "metadata": {},
   "outputs": [],
   "source": [
    "class XML2DF:\n",
    "\n",
    "    def __init__(self, xml_data):\n",
    "        self.root = ET.XML(xml_data)\n",
    "        self.meta = [ child for child in iter(self.root) ]\n",
    "        self.nextCursorMark = self.meta[2].text\n",
    "        self.hintCount = self.meta[1].text\n",
    "        self.results = [ child for child in self.meta[4] ];\n",
    "\n",
    "    def parse_result_list(self,results):\n",
    "        return [self.parse_result(child) for child in iter(results)]\n",
    "        \n",
    "    def parse_result(self, element, result=None):\n",
    "        if result is None:\n",
    "            result = dict()\n",
    "        for key in element.keys():\n",
    "            result[key] = element.attrib.get(key)\n",
    "        if element.text:\n",
    "            result[element.tag] = element.text\n",
    "        for child in list(element):\n",
    "            self.parse_result(child, result)\n",
    "        return result\n",
    "\n",
    "    def to_df(self):\n",
    "        structure_data = self.parse_result_list(self.results)\n",
    "        return pd.DataFrame(structure_data)\n",
    "\n"
   ]
  },
  {
   "cell_type": "markdown",
   "metadata": {},
   "source": [
    "## Test Parser"
   ]
  },
  {
   "cell_type": "markdown",
   "metadata": {},
   "source": [
    "Load and verify that the xml data was loaded"
   ]
  },
  {
   "cell_type": "code",
   "execution_count": 21,
   "metadata": {},
   "outputs": [],
   "source": [
    "xml_data = requests.get(pmc_url()).content"
   ]
  },
  {
   "cell_type": "code",
   "execution_count": 22,
   "metadata": {},
   "outputs": [],
   "source": [
    "xml_data;"
   ]
  },
  {
   "cell_type": "markdown",
   "metadata": {},
   "source": [
    "Create the XML2DF object from the XML data"
   ]
  },
  {
   "cell_type": "code",
   "execution_count": 23,
   "metadata": {},
   "outputs": [],
   "source": [
    "xml2df = XML2DF(xml_data)"
   ]
  },
  {
   "cell_type": "code",
   "execution_count": 24,
   "metadata": {},
   "outputs": [
    {
     "data": {
      "text/plain": [
       "('637026', 'AoIIQHmMxCgzNzk4Mjg2NQ==')"
      ]
     },
     "execution_count": 24,
     "metadata": {},
     "output_type": "execute_result"
    }
   ],
   "source": [
    "xml2df.hintCount,\\\n",
    "xml2df.nextCursorMark"
   ]
  },
  {
   "cell_type": "markdown",
   "metadata": {},
   "source": [
    "Load the XML into a dataframe"
   ]
  },
  {
   "cell_type": "code",
   "execution_count": 25,
   "metadata": {},
   "outputs": [],
   "source": [
    "df_xml = xml2df.to_df()"
   ]
  },
  {
   "cell_type": "markdown",
   "metadata": {},
   "source": [
    "Find out all the columns"
   ]
  },
  {
   "cell_type": "code",
   "execution_count": 26,
   "metadata": {},
   "outputs": [],
   "source": [
    "col = df_xml.columns"
   ]
  },
  {
   "cell_type": "markdown",
   "metadata": {},
   "source": [
    "## Load All Query Results"
   ]
  },
  {
   "cell_type": "code",
   "execution_count": 27,
   "metadata": {},
   "outputs": [],
   "source": [
    "df_total = pd.DataFrame( columns = col )\n",
    "\n",
    "marker = '*'\n",
    "marker_store = ''\n",
    "\n",
    "# while marker != marker_store:\n",
    "limit = 10 # for the keyword depression, the total iterations should of the order int(xml2df.hintCount)/100 since the page size is 100\n",
    "flag = 0\n",
    "\n",
    "# Set a limit on the loops so that it's not too large\n",
    "while flag < limit:\n",
    "    \n",
    "    xml_data = requests.get(pmc_url(marker)).content\n",
    "    xml2df = XML2DF(xml_data)\n",
    "    df_xml = xml2df.to_df()\n",
    "    \n",
    "    if df_xml.empty:\n",
    "        print('no data')\n",
    "        break\n",
    "    else:\n",
    "        df_total = pd.concat( [df_total, df_xml] )\n",
    "        \n",
    "    flag = flag + 1\n",
    "    \n",
    "#     marker_store = marker\n",
    "#     marker = xml2df.nextCursorMark"
   ]
  },
  {
   "cell_type": "code",
   "execution_count": 29,
   "metadata": {},
   "outputs": [
    {
     "data": {
      "text/plain": [
       "(1000, 28)"
      ]
     },
     "execution_count": 29,
     "metadata": {},
     "output_type": "execute_result"
    }
   ],
   "source": [
    "df_total.shape"
   ]
  },
  {
   "cell_type": "code",
   "execution_count": 30,
   "metadata": {},
   "outputs": [],
   "source": [
    "df_total.to_csv('depression.csv', sep=',', encoding='utf-8')"
   ]
  },
  {
   "cell_type": "code",
   "execution_count": null,
   "metadata": {},
   "outputs": [],
   "source": []
  },
  {
   "cell_type": "code",
   "execution_count": null,
   "metadata": {},
   "outputs": [],
   "source": []
  },
  {
   "cell_type": "markdown",
   "metadata": {},
   "source": [
    "## Analyzing Data"
   ]
  },
  {
   "cell_type": "code",
   "execution_count": 124,
   "metadata": {},
   "outputs": [
    {
     "data": {
      "text/plain": [
       "Index(['authorString', 'citedByCount', 'doi', 'firstPublicationDate',\n",
       "       'hasBook', 'hasDbCrossReferences', 'hasLabsLinks', 'hasPDF',\n",
       "       'hasReferences', 'hasSuppl', 'hasTMAccessionNumbers',\n",
       "       'hasTextMinedTerms', 'id', 'inEPMC', 'inPMC', 'isOpenAccess', 'issue',\n",
       "       'journalIssn', 'journalTitle', 'journalVolume', 'pageInfo', 'pmcid',\n",
       "       'pmid', 'pubType', 'pubYear', 'source', 'title'],\n",
       "      dtype='object')"
      ]
     },
     "execution_count": 124,
     "metadata": {},
     "output_type": "execute_result"
    }
   ],
   "source": [
    "df_xml.columns"
   ]
  },
  {
   "cell_type": "code",
   "execution_count": 151,
   "metadata": {},
   "outputs": [],
   "source": [
    "df_xml;"
   ]
  },
  {
   "cell_type": "code",
   "execution_count": null,
   "metadata": {},
   "outputs": [],
   "source": []
  }
 ],
 "metadata": {
  "kernelspec": {
   "display_name": "Python 3",
   "language": "python",
   "name": "python3"
  },
  "language_info": {
   "codemirror_mode": {
    "name": "ipython",
    "version": 3
   },
   "file_extension": ".py",
   "mimetype": "text/x-python",
   "name": "python",
   "nbconvert_exporter": "python",
   "pygments_lexer": "ipython3",
   "version": "3.6.4"
  }
 },
 "nbformat": 4,
 "nbformat_minor": 2
}
